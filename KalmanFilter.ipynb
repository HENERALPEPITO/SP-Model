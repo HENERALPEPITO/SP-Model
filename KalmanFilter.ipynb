{
  "nbformat": 4,
  "nbformat_minor": 0,
  "metadata": {
    "colab": {
      "provenance": []
    },
    "kernelspec": {
      "name": "python3",
      "display_name": "Python 3"
    },
    "language_info": {
      "name": "python"
    }
  },
  "cells": [
    {
      "cell_type": "markdown",
      "source": [
        "## Kalman Filter Algorithm\n",
        "\n",
        "The algorithm is the same Bayesian filter algorithm that we have used in every chapter. The update step is slightly more complicated, but I will explain why when we get to it.\n",
        "\n",
        "**Initialization**\n",
        "\n",
        "    1. Initialize the state of the filter\n",
        "    2. Initialize our belief in the state\n",
        "    \n",
        "**Predict**\n",
        "\n",
        "    1. Use process model to predict state at the next time step\n",
        "    2. Adjust belief to account for the uncertainty in prediction    \n",
        "**Update**\n",
        "\n",
        "    1. Get a measurement and associated belief about its accuracy\n",
        "    2. Compute residual between estimated state and measurement\n",
        "    3. Compute scaling factor based on whether the measurement\n",
        "    or prediction is more accurate\n",
        "    4. set state between the prediction and measurement based\n",
        "    on scaling factor\n",
        "    5. update belief in the state based on how certain we are\n",
        "    in the measurement"
      ],
      "metadata": {
        "id": "BdsEI3lN9Hop"
      }
    },
    {
      "cell_type": "markdown",
      "source": [
        "Import necessary libraries"
      ],
      "metadata": {
        "id": "A1G9gYrE9m_w"
      }
    },
    {
      "cell_type": "code",
      "source": [
        "import numpy as np\n",
        "import pandas as pd\n",
        "from pykalman import KalmanFilter\n",
        "import matplotlib.pyplot as plt\n",
        "from sklearn.metrics import mean_squared_error, accuracy_score, precision_score, recall_score"
      ],
      "metadata": {
        "id": "ZvWZngkx9pIp"
      },
      "execution_count": null,
      "outputs": []
    },
    {
      "cell_type": "markdown",
      "source": [
        "Read file"
      ],
      "metadata": {
        "id": "XMk9_fWv9hxr"
      }
    },
    {
      "cell_type": "code",
      "execution_count": null,
      "metadata": {
        "colab": {
          "base_uri": "https://localhost:8080/",
          "height": 206
        },
        "id": "IYuDX_4r9APs",
        "outputId": "45a93167-c9cd-452b-c7b2-035ad742a980"
      },
      "outputs": [
        {
          "output_type": "execute_result",
          "data": {
            "text/plain": [
              "      Time  Rainfall  Temperature   Humidity  Cases\n",
              "0  2016-w1     0.034    28.100000  81.671429     19\n",
              "1  2016-w2     0.000    28.310000  81.685714     23\n",
              "2  2016-w3     0.000    28.033333  80.400000     31\n",
              "3  2016-w4     0.420    26.527778  85.985714     26\n",
              "4  2016-w5     5.660    27.444440  84.680000     10"
            ],
            "text/html": [
              "\n",
              "  <div id=\"df-a8bd1588-d3dd-4184-b0c1-4843941ce6a0\" class=\"colab-df-container\">\n",
              "    <div>\n",
              "<style scoped>\n",
              "    .dataframe tbody tr th:only-of-type {\n",
              "        vertical-align: middle;\n",
              "    }\n",
              "\n",
              "    .dataframe tbody tr th {\n",
              "        vertical-align: top;\n",
              "    }\n",
              "\n",
              "    .dataframe thead th {\n",
              "        text-align: right;\n",
              "    }\n",
              "</style>\n",
              "<table border=\"1\" class=\"dataframe\">\n",
              "  <thead>\n",
              "    <tr style=\"text-align: right;\">\n",
              "      <th></th>\n",
              "      <th>Time</th>\n",
              "      <th>Rainfall</th>\n",
              "      <th>Temperature</th>\n",
              "      <th>Humidity</th>\n",
              "      <th>Cases</th>\n",
              "    </tr>\n",
              "  </thead>\n",
              "  <tbody>\n",
              "    <tr>\n",
              "      <th>0</th>\n",
              "      <td>2016-w1</td>\n",
              "      <td>0.034</td>\n",
              "      <td>28.100000</td>\n",
              "      <td>81.671429</td>\n",
              "      <td>19</td>\n",
              "    </tr>\n",
              "    <tr>\n",
              "      <th>1</th>\n",
              "      <td>2016-w2</td>\n",
              "      <td>0.000</td>\n",
              "      <td>28.310000</td>\n",
              "      <td>81.685714</td>\n",
              "      <td>23</td>\n",
              "    </tr>\n",
              "    <tr>\n",
              "      <th>2</th>\n",
              "      <td>2016-w3</td>\n",
              "      <td>0.000</td>\n",
              "      <td>28.033333</td>\n",
              "      <td>80.400000</td>\n",
              "      <td>31</td>\n",
              "    </tr>\n",
              "    <tr>\n",
              "      <th>3</th>\n",
              "      <td>2016-w4</td>\n",
              "      <td>0.420</td>\n",
              "      <td>26.527778</td>\n",
              "      <td>85.985714</td>\n",
              "      <td>26</td>\n",
              "    </tr>\n",
              "    <tr>\n",
              "      <th>4</th>\n",
              "      <td>2016-w5</td>\n",
              "      <td>5.660</td>\n",
              "      <td>27.444440</td>\n",
              "      <td>84.680000</td>\n",
              "      <td>10</td>\n",
              "    </tr>\n",
              "  </tbody>\n",
              "</table>\n",
              "</div>\n",
              "    <div class=\"colab-df-buttons\">\n",
              "\n",
              "  <div class=\"colab-df-container\">\n",
              "    <button class=\"colab-df-convert\" onclick=\"convertToInteractive('df-a8bd1588-d3dd-4184-b0c1-4843941ce6a0')\"\n",
              "            title=\"Convert this dataframe to an interactive table.\"\n",
              "            style=\"display:none;\">\n",
              "\n",
              "  <svg xmlns=\"http://www.w3.org/2000/svg\" height=\"24px\" viewBox=\"0 -960 960 960\">\n",
              "    <path d=\"M120-120v-720h720v720H120Zm60-500h600v-160H180v160Zm220 220h160v-160H400v160Zm0 220h160v-160H400v160ZM180-400h160v-160H180v160Zm440 0h160v-160H620v160ZM180-180h160v-160H180v160Zm440 0h160v-160H620v160Z\"/>\n",
              "  </svg>\n",
              "    </button>\n",
              "\n",
              "  <style>\n",
              "    .colab-df-container {\n",
              "      display:flex;\n",
              "      gap: 12px;\n",
              "    }\n",
              "\n",
              "    .colab-df-convert {\n",
              "      background-color: #E8F0FE;\n",
              "      border: none;\n",
              "      border-radius: 50%;\n",
              "      cursor: pointer;\n",
              "      display: none;\n",
              "      fill: #1967D2;\n",
              "      height: 32px;\n",
              "      padding: 0 0 0 0;\n",
              "      width: 32px;\n",
              "    }\n",
              "\n",
              "    .colab-df-convert:hover {\n",
              "      background-color: #E2EBFA;\n",
              "      box-shadow: 0px 1px 2px rgba(60, 64, 67, 0.3), 0px 1px 3px 1px rgba(60, 64, 67, 0.15);\n",
              "      fill: #174EA6;\n",
              "    }\n",
              "\n",
              "    .colab-df-buttons div {\n",
              "      margin-bottom: 4px;\n",
              "    }\n",
              "\n",
              "    [theme=dark] .colab-df-convert {\n",
              "      background-color: #3B4455;\n",
              "      fill: #D2E3FC;\n",
              "    }\n",
              "\n",
              "    [theme=dark] .colab-df-convert:hover {\n",
              "      background-color: #434B5C;\n",
              "      box-shadow: 0px 1px 3px 1px rgba(0, 0, 0, 0.15);\n",
              "      filter: drop-shadow(0px 1px 2px rgba(0, 0, 0, 0.3));\n",
              "      fill: #FFFFFF;\n",
              "    }\n",
              "  </style>\n",
              "\n",
              "    <script>\n",
              "      const buttonEl =\n",
              "        document.querySelector('#df-a8bd1588-d3dd-4184-b0c1-4843941ce6a0 button.colab-df-convert');\n",
              "      buttonEl.style.display =\n",
              "        google.colab.kernel.accessAllowed ? 'block' : 'none';\n",
              "\n",
              "      async function convertToInteractive(key) {\n",
              "        const element = document.querySelector('#df-a8bd1588-d3dd-4184-b0c1-4843941ce6a0');\n",
              "        const dataTable =\n",
              "          await google.colab.kernel.invokeFunction('convertToInteractive',\n",
              "                                                    [key], {});\n",
              "        if (!dataTable) return;\n",
              "\n",
              "        const docLinkHtml = 'Like what you see? Visit the ' +\n",
              "          '<a target=\"_blank\" href=https://colab.research.google.com/notebooks/data_table.ipynb>data table notebook</a>'\n",
              "          + ' to learn more about interactive tables.';\n",
              "        element.innerHTML = '';\n",
              "        dataTable['output_type'] = 'display_data';\n",
              "        await google.colab.output.renderOutput(dataTable, element);\n",
              "        const docLink = document.createElement('div');\n",
              "        docLink.innerHTML = docLinkHtml;\n",
              "        element.appendChild(docLink);\n",
              "      }\n",
              "    </script>\n",
              "  </div>\n",
              "\n",
              "\n",
              "<div id=\"df-c74943f1-c231-4455-aa22-8915af9301d6\">\n",
              "  <button class=\"colab-df-quickchart\" onclick=\"quickchart('df-c74943f1-c231-4455-aa22-8915af9301d6')\"\n",
              "            title=\"Suggest charts\"\n",
              "            style=\"display:none;\">\n",
              "\n",
              "<svg xmlns=\"http://www.w3.org/2000/svg\" height=\"24px\"viewBox=\"0 0 24 24\"\n",
              "     width=\"24px\">\n",
              "    <g>\n",
              "        <path d=\"M19 3H5c-1.1 0-2 .9-2 2v14c0 1.1.9 2 2 2h14c1.1 0 2-.9 2-2V5c0-1.1-.9-2-2-2zM9 17H7v-7h2v7zm4 0h-2V7h2v10zm4 0h-2v-4h2v4z\"/>\n",
              "    </g>\n",
              "</svg>\n",
              "  </button>\n",
              "\n",
              "<style>\n",
              "  .colab-df-quickchart {\n",
              "      --bg-color: #E8F0FE;\n",
              "      --fill-color: #1967D2;\n",
              "      --hover-bg-color: #E2EBFA;\n",
              "      --hover-fill-color: #174EA6;\n",
              "      --disabled-fill-color: #AAA;\n",
              "      --disabled-bg-color: #DDD;\n",
              "  }\n",
              "\n",
              "  [theme=dark] .colab-df-quickchart {\n",
              "      --bg-color: #3B4455;\n",
              "      --fill-color: #D2E3FC;\n",
              "      --hover-bg-color: #434B5C;\n",
              "      --hover-fill-color: #FFFFFF;\n",
              "      --disabled-bg-color: #3B4455;\n",
              "      --disabled-fill-color: #666;\n",
              "  }\n",
              "\n",
              "  .colab-df-quickchart {\n",
              "    background-color: var(--bg-color);\n",
              "    border: none;\n",
              "    border-radius: 50%;\n",
              "    cursor: pointer;\n",
              "    display: none;\n",
              "    fill: var(--fill-color);\n",
              "    height: 32px;\n",
              "    padding: 0;\n",
              "    width: 32px;\n",
              "  }\n",
              "\n",
              "  .colab-df-quickchart:hover {\n",
              "    background-color: var(--hover-bg-color);\n",
              "    box-shadow: 0 1px 2px rgba(60, 64, 67, 0.3), 0 1px 3px 1px rgba(60, 64, 67, 0.15);\n",
              "    fill: var(--button-hover-fill-color);\n",
              "  }\n",
              "\n",
              "  .colab-df-quickchart-complete:disabled,\n",
              "  .colab-df-quickchart-complete:disabled:hover {\n",
              "    background-color: var(--disabled-bg-color);\n",
              "    fill: var(--disabled-fill-color);\n",
              "    box-shadow: none;\n",
              "  }\n",
              "\n",
              "  .colab-df-spinner {\n",
              "    border: 2px solid var(--fill-color);\n",
              "    border-color: transparent;\n",
              "    border-bottom-color: var(--fill-color);\n",
              "    animation:\n",
              "      spin 1s steps(1) infinite;\n",
              "  }\n",
              "\n",
              "  @keyframes spin {\n",
              "    0% {\n",
              "      border-color: transparent;\n",
              "      border-bottom-color: var(--fill-color);\n",
              "      border-left-color: var(--fill-color);\n",
              "    }\n",
              "    20% {\n",
              "      border-color: transparent;\n",
              "      border-left-color: var(--fill-color);\n",
              "      border-top-color: var(--fill-color);\n",
              "    }\n",
              "    30% {\n",
              "      border-color: transparent;\n",
              "      border-left-color: var(--fill-color);\n",
              "      border-top-color: var(--fill-color);\n",
              "      border-right-color: var(--fill-color);\n",
              "    }\n",
              "    40% {\n",
              "      border-color: transparent;\n",
              "      border-right-color: var(--fill-color);\n",
              "      border-top-color: var(--fill-color);\n",
              "    }\n",
              "    60% {\n",
              "      border-color: transparent;\n",
              "      border-right-color: var(--fill-color);\n",
              "    }\n",
              "    80% {\n",
              "      border-color: transparent;\n",
              "      border-right-color: var(--fill-color);\n",
              "      border-bottom-color: var(--fill-color);\n",
              "    }\n",
              "    90% {\n",
              "      border-color: transparent;\n",
              "      border-bottom-color: var(--fill-color);\n",
              "    }\n",
              "  }\n",
              "</style>\n",
              "\n",
              "  <script>\n",
              "    async function quickchart(key) {\n",
              "      const quickchartButtonEl =\n",
              "        document.querySelector('#' + key + ' button');\n",
              "      quickchartButtonEl.disabled = true;  // To prevent multiple clicks.\n",
              "      quickchartButtonEl.classList.add('colab-df-spinner');\n",
              "      try {\n",
              "        const charts = await google.colab.kernel.invokeFunction(\n",
              "            'suggestCharts', [key], {});\n",
              "      } catch (error) {\n",
              "        console.error('Error during call to suggestCharts:', error);\n",
              "      }\n",
              "      quickchartButtonEl.classList.remove('colab-df-spinner');\n",
              "      quickchartButtonEl.classList.add('colab-df-quickchart-complete');\n",
              "    }\n",
              "    (() => {\n",
              "      let quickchartButtonEl =\n",
              "        document.querySelector('#df-c74943f1-c231-4455-aa22-8915af9301d6 button');\n",
              "      quickchartButtonEl.style.display =\n",
              "        google.colab.kernel.accessAllowed ? 'block' : 'none';\n",
              "    })();\n",
              "  </script>\n",
              "</div>\n",
              "\n",
              "    </div>\n",
              "  </div>\n"
            ],
            "application/vnd.google.colaboratory.intrinsic+json": {
              "type": "dataframe",
              "variable_name": "df",
              "summary": "{\n  \"name\": \"df\",\n  \"rows\": 400,\n  \"fields\": [\n    {\n      \"column\": \"Time\",\n      \"properties\": {\n        \"dtype\": \"string\",\n        \"num_unique_values\": 400,\n        \"samples\": [\n          \"2020-w2\",\n          \"2022-w20\",\n          \"2016-w34\"\n        ],\n        \"semantic_type\": \"\",\n        \"description\": \"\"\n      }\n    },\n    {\n      \"column\": \"Rainfall\",\n      \"properties\": {\n        \"dtype\": \"number\",\n        \"std\": 1.8261946787763297,\n        \"min\": 0.0,\n        \"max\": 17.52,\n        \"num_unique_values\": 196,\n        \"samples\": [\n          0.01,\n          0.06,\n          5.81\n        ],\n        \"semantic_type\": \"\",\n        \"description\": \"\"\n      }\n    },\n    {\n      \"column\": \"Temperature\",\n      \"properties\": {\n        \"dtype\": \"number\",\n        \"std\": 0.9572023546398891,\n        \"min\": 25.727778,\n        \"max\": 30.916667,\n        \"num_unique_values\": 304,\n        \"samples\": [\n          27.7,\n          29.866667,\n          29.783333\n        ],\n        \"semantic_type\": \"\",\n        \"description\": \"\"\n      }\n    },\n    {\n      \"column\": \"Humidity\",\n      \"properties\": {\n        \"dtype\": \"number\",\n        \"std\": 2.8032364238804695,\n        \"min\": 74.22857,\n        \"max\": 89.57142857,\n        \"num_unique_values\": 354,\n        \"samples\": [\n          80.67143,\n          81.21428571,\n          85.38571\n        ],\n        \"semantic_type\": \"\",\n        \"description\": \"\"\n      }\n    },\n    {\n      \"column\": \"Cases\",\n      \"properties\": {\n        \"dtype\": \"number\",\n        \"std\": 44,\n        \"min\": 0,\n        \"max\": 319,\n        \"num_unique_values\": 91,\n        \"samples\": [\n          59,\n          141,\n          110\n        ],\n        \"semantic_type\": \"\",\n        \"description\": \"\"\n      }\n    }\n  ]\n}"
            }
          },
          "metadata": {},
          "execution_count": 48
        }
      ],
      "source": [
        "df = pd.read_csv('/content/drive/MyDrive/datasets/finaldatasets.csv')\n",
        "df.head()"
      ]
    },
    {
      "cell_type": "markdown",
      "source": [
        "Convert Time to proper date format"
      ],
      "metadata": {
        "id": "kzLC2sap96cT"
      }
    },
    {
      "cell_type": "code",
      "source": [
        "# Convert 'Time' to datetime\n",
        "df['Time'] = pd.to_datetime(df['Time'] + '-1', format='%Y-w%W-%w')"
      ],
      "metadata": {
        "id": "HCHg-9-D982h"
      },
      "execution_count": null,
      "outputs": []
    },
    {
      "cell_type": "markdown",
      "source": [
        "*Prepare the data*"
      ],
      "metadata": {
        "id": "kmpvCiJ-9-er"
      }
    },
    {
      "cell_type": "code",
      "source": [
        "y = df['Cases'].values  # Dependent variable (cases)\n",
        "X = df[['Rainfall', 'Temperature', 'Humidity']].values  # Regressors"
      ],
      "metadata": {
        "id": "HWQ0P1L--OCY"
      },
      "execution_count": null,
      "outputs": []
    },
    {
      "cell_type": "markdown",
      "source": [
        " Split data into 80% train and 20% test\n"
      ],
      "metadata": {
        "id": "2XnhV_RPAonq"
      }
    },
    {
      "cell_type": "code",
      "source": [
        "train_size = int(len(df) * 0.8)  # 80% for training\n",
        "X_train, X_test = X[:train_size], X[train_size:]\n",
        "y_train, y_test = y[:train_size], y[train_size:]"
      ],
      "metadata": {
        "id": "cJO0U-lgAqJ3"
      },
      "execution_count": null,
      "outputs": []
    },
    {
      "cell_type": "markdown",
      "source": [
        " Add intercept (column of ones) to the observation matrix for training and Reshape to be compatible with Kalman Filter (n_timesteps, 1, n_regressors + 1)\n"
      ],
      "metadata": {
        "id": "9Mmle4f2Atsu"
      }
    },
    {
      "cell_type": "code",
      "source": [
        "n_timesteps_train, n_regressors = X_train.shape\n",
        "observation_matrices_train = np.array([np.concatenate(([1], X_train[i])) for i in range(n_timesteps_train)])\n",
        "observation_matrices_train = observation_matrices_train.reshape((n_timesteps_train, 1, n_regressors + 1))\n",
        "\n",
        "print(observation_matrices_train[:10])\n",
        "print(observation_matrices_train.shape)"
      ],
      "metadata": {
        "colab": {
          "base_uri": "https://localhost:8080/"
        },
        "id": "SIrpw5LdAuFl",
        "outputId": "ef4bb9e9-848a-4750-8304-ff618949ca9c"
      },
      "execution_count": null,
      "outputs": [
        {
          "output_type": "stream",
          "name": "stdout",
          "text": [
            "[[[1.00000000e+00 3.40000000e-02 2.81000000e+01 8.16714286e+01]]\n",
            "\n",
            " [[1.00000000e+00 0.00000000e+00 2.83100000e+01 8.16857143e+01]]\n",
            "\n",
            " [[1.00000000e+00 0.00000000e+00 2.80333330e+01 8.04000000e+01]]\n",
            "\n",
            " [[1.00000000e+00 4.20000000e-01 2.65277780e+01 8.59857143e+01]]\n",
            "\n",
            " [[1.00000000e+00 5.66000000e+00 2.74444400e+01 8.46800000e+01]]\n",
            "\n",
            " [[1.00000000e+00 1.90000000e-01 2.62833330e+01 8.35142857e+01]]\n",
            "\n",
            " [[1.00000000e+00 1.40000000e-01 2.69833330e+01 8.29714286e+01]]\n",
            "\n",
            " [[1.00000000e+00 1.10000000e-01 2.64944440e+01 8.20857143e+01]]\n",
            "\n",
            " [[1.00000000e+00 6.40000000e-02 2.77722220e+01 8.31714286e+01]]\n",
            "\n",
            " [[1.00000000e+00 0.00000000e+00 2.85444440e+01 8.05714286e+01]]]\n",
            "(320, 1, 4)\n"
          ]
        }
      ]
    },
    {
      "cell_type": "markdown",
      "source": [
        "Define the Kalman Filter"
      ],
      "metadata": {
        "id": "msRXbRE1BDdi"
      }
    },
    {
      "cell_type": "code",
      "source": [
        "# Set initial state mean and covariance\n",
        "initial_state_mean = np.zeros(n_regressors + 1)  # State for intercept and coefficients\n",
        "initial_state_covariance = np.eye(n_regressors + 1)  # Identity matrix\n",
        "\n",
        "kf = KalmanFilter(\n",
        "    transition_matrices=np.eye(n_regressors + 1),  # State transition matrix (identity for now)\n",
        "    observation_matrices=observation_matrices_train,  # Observation matrix with intercept and regressors\n",
        "    initial_state_mean=initial_state_mean,\n",
        "    initial_state_covariance=initial_state_covariance,\n",
        "    observation_covariance=1.0,  # Measurement noise\n",
        "    transition_covariance=0.01 * np.eye(n_regressors + 1)  # State transition noise\n",
        ")"
      ],
      "metadata": {
        "id": "wxhOe4t9BD7l"
      },
      "execution_count": null,
      "outputs": []
    },
    {
      "cell_type": "markdown",
      "source": [
        "Train the Kalman Filter on the training set and Predict on the test set using the state means from training"
      ],
      "metadata": {
        "id": "LEpzwM8IBMQj"
      }
    },
    {
      "cell_type": "code",
      "source": [
        "# Train the Kalman Filter on the training set\n",
        "state_means_train, state_covariances_train = kf.em(y_train, n_iter=10).smooth(y_train)\n",
        "\n",
        "# Add intercept (column of ones) to the observation matrix for testing\n",
        "n_timesteps_test = X_test.shape[0]\n",
        "observation_matrices_test = np.array([np.concatenate(([1], X_test[i])) for i in range(n_timesteps_test)])\n",
        "observation_matrices_test = observation_matrices_test.reshape((n_timesteps_test, 1, n_regressors + 1))\n",
        "\n",
        "predicted_cases_test = np.dot(observation_matrices_test.squeeze(), state_means_train.T).diagonal()"
      ],
      "metadata": {
        "id": "FeEkEOngBNL3"
      },
      "execution_count": null,
      "outputs": []
    },
    {
      "cell_type": "markdown",
      "source": [
        "Actual vs predicted cases"
      ],
      "metadata": {
        "id": "yNaxfasLIS-S"
      }
    },
    {
      "cell_type": "code",
      "source": [
        "results_df = pd.DataFrame({\n",
        "    'Actual Cases': y_test,\n",
        "    'Forecasted Cases': predicted_cases_test\n",
        "})\n",
        "\n",
        "# Print the DataFrame\n",
        "print(results_df)\n",
        "\n",
        "# Optionally, print the first 10 rows to limit the output\n",
        "print(\"\\nFirst 10 rows of Actual vs Forecasted Cases:\\n\", results_df.head(10))\n"
      ],
      "metadata": {
        "colab": {
          "base_uri": "https://localhost:8080/"
        },
        "id": "QmInFSBiIRiR",
        "outputId": "d23bc7cc-8c74-4a69-c002-3c570fda4608"
      },
      "execution_count": null,
      "outputs": [
        {
          "output_type": "stream",
          "name": "stdout",
          "text": [
            "    Actual Cases  Forecasted Cases\n",
            "0              6         17.110319\n",
            "1              8         21.655977\n",
            "2             15         30.253811\n",
            "3             11         27.665669\n",
            "4             12         17.460815\n",
            "..           ...               ...\n",
            "75           226         -1.390072\n",
            "76           205          2.004026\n",
            "77           209          3.765426\n",
            "78           162          6.907065\n",
            "79           103         11.912610\n",
            "\n",
            "[80 rows x 2 columns]\n",
            "\n",
            "First 10 rows of Actual vs Forecasted Cases:\n",
            "    Actual Cases  Forecasted Cases\n",
            "0             6         17.110319\n",
            "1             8         21.655977\n",
            "2            15         30.253811\n",
            "3            11         27.665669\n",
            "4            12         17.460815\n",
            "5            11         14.715796\n",
            "6            11         12.492557\n",
            "7            15         21.872725\n",
            "8            17         14.909968\n",
            "9            15         14.065188\n"
          ]
        }
      ]
    },
    {
      "cell_type": "markdown",
      "source": [
        "Display visualition for actual vs predicted cases"
      ],
      "metadata": {
        "id": "NUhOIl3-ICs7"
      }
    },
    {
      "cell_type": "code",
      "source": [
        "# Plot actual vs predicted cases for test set\n",
        "plt.figure(figsize=(10, 6))\n",
        "plt.plot(df['Time'][train_size:], y_test, label='Actual Cases (Test Set)')\n",
        "plt.plot(df['Time'][train_size:], predicted_cases_test, label='Predicted Cases (Test Set)', linestyle='--')\n",
        "plt.xlabel('Time')\n",
        "plt.ylabel('Cases')\n",
        "plt.legend()\n",
        "plt.title('Actual vs Predicted Cases (Test Set, Kalman Filter)')\n",
        "plt.show()"
      ],
      "metadata": {
        "colab": {
          "base_uri": "https://localhost:8080/",
          "height": 564
        },
        "id": "tcRcBVQfBbW5",
        "outputId": "1de41781-6509-4127-aa9d-eec44bfaa74f"
      },
      "execution_count": null,
      "outputs": [
        {
          "output_type": "display_data",
          "data": {
            "text/plain": [
              "<Figure size 1000x600 with 1 Axes>"
            ],
            "image/png": "[encoded data removed]"
          },
          "metadata": {}
        }
      ]
    },
    {
      "cell_type": "markdown",
      "source": [
        "Evaluate the Kalman Filter performance\n"
      ],
      "metadata": {
        "id": "obITimyVIIoG"
      }
    },
    {
      "cell_type": "code",
      "source": [
        "mse = mean_squared_error(y_test, predicted_cases_test)\n",
        "print(f'Mean Squared Error (MSE): {mse}')\n",
        "\n",
        "rmse = np.sqrt(mse)\n",
        "print(f'Root Mean Squared Error (RMSE): {rmse:.6f}')\n",
        "\n",
        "# To compute classification metrics (Accuracy, Precision, Recall), we need to binarize the data\n",
        "threshold = y_train.mean()  # Simple threshold based on the training set mean\n",
        "y_test_class = (y_test >= threshold).astype(int)\n",
        "predicted_cases_test_class = (predicted_cases_test >= threshold).astype(int)\n",
        "\n",
        "# Calculate classification metrics\n",
        "accuracy = accuracy_score(y_test_class, predicted_cases_test_class)\n",
        "precision = precision_score(y_test_class, predicted_cases_test_class)\n",
        "recall = recall_score(y_test_class, predicted_cases_test_class)\n",
        "\n",
        "print(f'Accuracy: {accuracy}')\n",
        "print(f'Precision: {precision}')\n",
        "print(f'Recall: {recall}')"
      ],
      "metadata": {
        "colab": {
          "base_uri": "https://localhost:8080/"
        },
        "id": "2hGwUTYRBk8-",
        "outputId": "c550b245-fc51-4526-a7c2-8ed298d9abd1"
      },
      "execution_count": null,
      "outputs": [
        {
          "output_type": "stream",
          "name": "stdout",
          "text": [
            "Mean Squared Error (MSE): 3735.2507454172287\n",
            "Root Mean Squared Error (RMSE): 61.116698\n",
            "Accuracy: 0.6625\n",
            "Precision: 0.6842105263157895\n",
            "Recall: 0.38235294117647056\n"
          ]
        }
      ]
    }
  ]
}